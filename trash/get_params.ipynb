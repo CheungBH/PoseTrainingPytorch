{
 "cells": [
  {
   "cell_type": "code",
   "execution_count": 9,
   "metadata": {},
   "outputs": [],
   "source": [
    "import os\n",
    "import torch\n",
    "import torch.nn as nn\n",
    "import numpy as np"
   ]
  },
  {
   "cell_type": "code",
   "execution_count": 10,
   "metadata": {},
   "outputs": [],
   "source": [
    "mobile_setting = [                [1, 14, 1, 1],\n",
    "                [6, 24, 2, 2],\n",
    "                [6, 28, 3, 2],\n",
    "                [6, 48, 4, 2],\n",
    "                [6, 72, 3, 1],\n",
    "                [6, 120, 3, 2],\n",
    "                [6, 318, 1, 1]]\n",
    "DUCs = [640, 320]"
   ]
  },
  {
   "cell_type": "code",
   "execution_count": 11,
   "metadata": {},
   "outputs": [],
   "source": [
    "from models.mobilenet.MobilePose import createModel"
   ]
  },
  {
   "cell_type": "code",
   "execution_count": 12,
   "metadata": {},
   "outputs": [
    {
     "name": "stdout",
     "output_type": "stream",
     "text": [
      "[[1, 14, 1, 1], [6, 24, 2, 2], [6, 28, 3, 2], [6, 48, 4, 2], [6, 72, 3, 1], [6, 120, 3, 2], [6, 318, 1, 1]]\n"
     ]
    }
   ],
   "source": [
    "model = createModel(cfg=mobile_setting)\n",
    "weights = \"exp/coco/mob_huge_hmprune_OriginDUC_sparseE-8/model_0.pkl\""
   ]
  },
  {
   "cell_type": "code",
   "execution_count": 13,
   "metadata": {},
   "outputs": [],
   "source": [
    "device = \"cpu\"\n",
    "model = model.to(device)"
   ]
  },
  {
   "cell_type": "code",
   "execution_count": 14,
   "metadata": {},
   "outputs": [
    {
     "data": {
      "text/plain": [
       "<All keys matched successfully>"
      ]
     },
     "execution_count": 14,
     "metadata": {},
     "output_type": "execute_result"
    }
   ],
   "source": [
    "model.load_state_dict(torch.load(weights, map_location=\"cpu\"))"
   ]
  },
  {
   "cell_type": "code",
   "execution_count": 15,
   "metadata": {},
   "outputs": [],
   "source": [
    "from utils.compute_flops import print_model_param_flops, print_model_param_nums"
   ]
  },
  {
   "cell_type": "code",
   "execution_count": 16,
   "metadata": {},
   "outputs": [
    {
     "name": "stdout",
     "output_type": "stream",
     "text": [
      "  + Number of FLOPs: 1.98450G\n",
      "1984500784.0\n"
     ]
    }
   ],
   "source": [
    "flops = print_model_param_flops(model)\n",
    "print(flops)"
   ]
  },
  {
   "cell_type": "code",
   "execution_count": 17,
   "metadata": {},
   "outputs": [
    {
     "name": "stdout",
     "output_type": "stream",
     "text": [
      "  + Number of params: 3.85M\n",
      "3850141\n"
     ]
    }
   ],
   "source": [
    "params = print_model_param_nums(model)\n",
    "print(params)"
   ]
  },
  {
   "cell_type": "code",
   "execution_count": null,
   "metadata": {},
   "outputs": [],
   "source": []
  }
 ],
 "metadata": {
  "kernelspec": {
   "display_name": "Python 3",
   "language": "python",
   "name": "python3"
  },
  "language_info": {
   "codemirror_mode": {
    "name": "ipython",
    "version": 3
   },
   "file_extension": ".py",
   "mimetype": "text/x-python",
   "name": "python",
   "nbconvert_exporter": "python",
   "pygments_lexer": "ipython3",
   "version": "3.7.6"
  }
 },
 "nbformat": 4,
 "nbformat_minor": 2
}
